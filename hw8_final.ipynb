{
 "cells": [
  {
   "cell_type": "markdown",
   "metadata": {},
   "source": [
    "## HW8 for CS 498 - Applied Machine Learning"
   ]
  },
  {
   "cell_type": "markdown",
   "metadata": {},
   "source": [
    "Students:\n",
    "Cristian Jansenson\n",
    "Peter Tsapatsaris\n"
   ]
  },
  {
   "cell_type": "code",
   "execution_count": 17,
   "metadata": {},
   "outputs": [],
   "source": [
    "import pandas as pd\n",
    "import numpy as np\n",
    "import math \n",
    "import mnist\n",
    "import scipy.misc\n",
    "import copy\n",
    "from pylab import imshow, show"
   ]
  },
  {
   "cell_type": "markdown",
   "metadata": {},
   "source": [
    "### Get data and binarize"
   ]
  },
  {
   "cell_type": "code",
   "execution_count": 3,
   "metadata": {},
   "outputs": [],
   "source": [
    "train_images = mnist.train_images()\n",
    "train_labels = mnist.train_labels()\n",
    "from sklearn import preprocessing\n",
    "norm_images = train_images/255\n",
    "bin_images = np.empty([60000,28,28])\n",
    "for i in range(60000):\n",
    "    bin_images[i] = preprocessing.binarize(norm_images[i], threshold=0.5, copy=True)\n",
    "    bin_images[i] = np.where(bin_images[i] == 0, -1, 1)"
   ]
  },
  {
   "cell_type": "markdown",
   "metadata": {
    "collapsed": true
   },
   "source": [
    "### Add noise"
   ]
  },
  {
   "cell_type": "code",
   "execution_count": 4,
   "metadata": {},
   "outputs": [],
   "source": [
    "noiseDF = pd.read_csv('NoiseCoordinates.csv')"
   ]
  },
  {
   "cell_type": "code",
   "execution_count": 5,
   "metadata": {},
   "outputs": [],
   "source": [
    "for imageNum in range(20):\n",
    "    rowBits = noiseDF.iloc[2 * imageNum][1:]\n",
    "    colBits = noiseDF.iloc[2 * imageNum + 1][1:]\n",
    "    #print('Image:' + str(imageNum))\n",
    "    for bit in range(15):\n",
    "        #print(rowBits[bit], colBits[bit])\n",
    "        if bin_images[imageNum][rowBits[bit]][colBits[bit]] == -1:\n",
    "            bin_images[imageNum][rowBits[bit]][colBits[bit]] = 1\n",
    "        else:\n",
    "            bin_images[imageNum][rowBits[bit]][colBits[bit]] = -1\n",
    "   "
   ]
  },
  {
   "cell_type": "markdown",
   "metadata": {
    "collapsed": true
   },
   "source": [
    "### Add noise"
   ]
  },
  {
   "cell_type": "code",
   "execution_count": 6,
   "metadata": {},
   "outputs": [],
   "source": [
    "Q = pd.read_csv('InitialParametersModel.csv', header=None)\n",
    "updateOrder = pd.read_csv('UpdateOrderCoordinates.csv')\n",
    "\n",
    "def buildQList(Q, numOfImages):\n",
    "    l = []\n",
    "    for i in range(numOfImages):\n",
    "        l.append(np.copy(Q))\n",
    "    return l\n",
    "\n",
    "QList = buildQList(Q, 20)"
   ]
  },
  {
   "cell_type": "code",
   "execution_count": 7,
   "metadata": {},
   "outputs": [],
   "source": [
    "theta1 = .8\n",
    "theta2 = 2\n",
    "epsilon = 1e-10\n",
    "def calcEqLogQ(Q):\n",
    "    res = 0\n",
    "    for r in range(28):\n",
    "        for c in range(28): \n",
    "            res = res + Q[r][c] *  np.log(Q[r][c] + epsilon)\n",
    "            res = res + (1 - Q[r][c]) *  np.log(1 - Q[r][c] + epsilon)\n",
    "            \n",
    "    #print('eqlog:' + str(res))\n",
    "    return res\n",
    "\n",
    "def calcEqLogP(imgNumber, QList, bin_images):\n",
    "    img = bin_images[imgNumber]\n",
    "    Q = QList[imgNumber]\n",
    "    res = 0\n",
    "    for r in range(28):\n",
    "        for c in range(28):  \n",
    "            if c > 0:\n",
    "                res = res + theta1 * (2 * Q[r][c] - 1) * (2 * Q[r][c - 1] - 1)\n",
    "            if c < 27:    \n",
    "                res = res + theta1 * (2 * Q[r][c] - 1) * (2 * Q[r][c + 1] - 1)\n",
    "            if r > 0:\n",
    "                res = res + theta1 * (2 * Q[r][c] - 1) * (2 * Q[r - 1][c] - 1)\n",
    "            if r < 27:\n",
    "                res = res + theta1 * (2 * Q[r][c] - 1) * (2 * Q[r + 1][c] - 1)\n",
    "            \n",
    "            res = res + theta2 * (2 * Q[r][c] - 1) * img[r][c]\n",
    "    #print('EqLogP:' + str(res))\n",
    "    return res\n",
    "    \n",
    "def calcEq(imgNumber, QList, binImages):\n",
    "    return calcEqLogQ(QList[imgNumber]) - calcEqLogP(imgNumber, QList, binImages) \n",
    "\n"
   ]
  },
  {
   "cell_type": "code",
   "execution_count": 19,
   "metadata": {},
   "outputs": [],
   "source": [
    "def getNextExtQ(imgNumber, ExtQList, bin_images, updateOrder):\n",
    "    oriQ = ExtQList[imgNumber]\n",
    "    newExtQ = np.copy(ExtQList[imgNumber])\n",
    "    rowIdx = updateOrder.iloc[imgNumber * 2]\n",
    "    colIdx = updateOrder.iloc[imgNumber * 2 + 1]\n",
    "    img = bin_images[imgNumber]\n",
    "    for counter in range(1, 28*28+1):\n",
    "        r = rowIdx[counter]\n",
    "        c = colIdx[counter]\n",
    "        #print (r,c)\n",
    "        posSum = 0\n",
    "        if c > 0:\n",
    "            posSum = posSum + theta1 * (2*newExtQ[r][c - 1] -1)\n",
    "        if c < 27:\n",
    "            posSum = posSum + theta1 * (2*newExtQ[r][c + 1] -1)\n",
    "        if r > 0:\n",
    "            posSum = posSum + theta1 * (2*newExtQ[r - 1][c] -1)\n",
    "        if r < 27:\n",
    "            posSum = posSum + theta1 * (2*newExtQ[r + 1][c] -1)\n",
    "        posSum = posSum + theta2 * img[r][c]\n",
    "        num = math.exp(posSum)\n",
    "        den = math.exp(posSum) + math.exp(-posSum)\n",
    "        res = num/den\n",
    "        newExtQ[r][c] = res    \n",
    "    return newExtQ\n",
    "\n",
    "# Input is bin_images[index]\n",
    "def showImage(pic):\n",
    "    imshow(pic, cmap='gray')\n",
    "    show()"
   ]
  },
  {
   "cell_type": "code",
   "execution_count": 9,
   "metadata": {},
   "outputs": [
    {
     "data": {
      "text/plain": [
       "-425.34792867180096"
      ]
     },
     "execution_count": 9,
     "metadata": {},
     "output_type": "execute_result"
    }
   ],
   "source": [
    "calcEq(0, QList, bin_images) \n",
    "#QList[0] = getNextExtQ(0, QList, bin_images, updateOrder)"
   ]
  },
  {
   "cell_type": "markdown",
   "metadata": {},
   "source": [
    "### Perform 10 iterations of algorithm"
   ]
  },
  {
   "cell_type": "code",
   "execution_count": 10,
   "metadata": {},
   "outputs": [],
   "source": [
    "ExtQList =  np.asarray(buildQList(Q, 20))\n",
    "eValues = np.zeros((20,11))\n",
    "first10 = np.empty((28,0))\n",
    "second10 = np.empty((28,0))\n",
    "allBuilt = np.empty((28,0))"
   ]
  },
  {
   "cell_type": "code",
   "execution_count": 11,
   "metadata": {},
   "outputs": [],
   "source": [
    "newQList = np.copy(ExtQList)\n",
    "\n",
    "for i in range(0,20):\n",
    "    eValues[i][0] = calcEq(i, newQList, bin_images)\n",
    "    for j in range(0,10):\n",
    "        newQList[i] = getNextExtQ(i, newQList, bin_images, updateOrder)\n",
    "        eValues[i][j+1] = calcEq(i, newQList, bin_images)\n",
    "        #print(newQList[1][10])\n",
    "    \n",
    "    # Create array of first 10 and second 10 images. \n",
    "    temp = preprocessing.binarize((newQList[i] * bin_images[i]), threshold=0.5, copy=False)\n",
    "    if(i<10):\n",
    "        first10 = np.concatenate((first10, temp), axis=1)\n",
    "    else:\n",
    "        second10 = np.concatenate((second10, temp), axis=1)\n",
    "        \n",
    "    allBuilt = np.concatenate((allBuilt, temp), axis=1)        "
   ]
  },
  {
   "cell_type": "code",
   "execution_count": 12,
   "metadata": {},
   "outputs": [],
   "source": [
    "pd.DataFrame(second10).to_csv('denoised.csv', header=False, index=False)"
   ]
  },
  {
   "cell_type": "code",
   "execution_count": 13,
   "metadata": {},
   "outputs": [],
   "source": [
    "# Create array of original images for comparison with denoised images\n",
    "original10 = np.empty((28,0))\n",
    "original20 = np.empty((28,0))\n",
    "for i in range(0,20):\n",
    "    if(i<10):\n",
    "        original10 = np.concatenate((original10, bin_images[i]), axis=1)\n",
    "    else:\n",
    "        original20 = np.concatenate((original20, bin_images[i]), axis=1)"
   ]
  },
  {
   "cell_type": "code",
   "execution_count": 14,
   "metadata": {},
   "outputs": [],
   "source": [
    "original10 = np.empty((28,0))\n",
    "original20 = np.empty((28,0))\n",
    "for i in range(0,20):\n",
    "    if(i<10):\n",
    "        original10 = np.concatenate((original10, bin_images[i]), axis=1)\n",
    "    else:\n",
    "        original20 = np.concatenate((original20, bin_images[i]), axis=1)"
   ]
  },
  {
   "cell_type": "code",
   "execution_count": 15,
   "metadata": {},
   "outputs": [
    {
     "data": {
      "text/plain": [
       "(28, 560)"
      ]
     },
     "execution_count": 15,
     "metadata": {},
     "output_type": "execute_result"
    }
   ],
   "source": [
    "allBuilt.shape"
   ]
  },
  {
   "cell_type": "code",
   "execution_count": 20,
   "metadata": {
    "scrolled": true
   },
   "outputs": [
    {
     "data": {
      "image/png": "[encoded data removed]",
      "text/plain": [
       "<matplotlib.figure.Figure at 0x225ddbf50f0>"
      ]
     },
     "metadata": {},
     "output_type": "display_data"
    }
   ],
   "source": [
    "showImage(original10)"
   ]
  },
  {
   "cell_type": "code",
   "execution_count": 21,
   "metadata": {
    "scrolled": true
   },
   "outputs": [
    {
     "data": {
      "image/png": "[encoded data removed]",
      "text/plain": [
       "<matplotlib.figure.Figure at 0x225ddcce518>"
      ]
     },
     "metadata": {},
     "output_type": "display_data"
    }
   ],
   "source": [
    "showImage(allBuilt)"
   ]
  },
  {
   "cell_type": "code",
   "execution_count": 22,
   "metadata": {},
   "outputs": [
    {
     "data": {
      "image/png": "[encoded data removed]",
      "text/plain": [
       "<matplotlib.figure.Figure at 0x225ddcce550>"
      ]
     },
     "metadata": {},
     "output_type": "display_data"
    }
   ],
   "source": [
    "showImage(original20)"
   ]
  },
  {
   "cell_type": "code",
   "execution_count": 23,
   "metadata": {},
   "outputs": [
    {
     "data": {
      "image/png": "[encoded data removed]",
      "text/plain": [
       "<matplotlib.figure.Figure at 0x225ddcd8550>"
      ]
     },
     "metadata": {},
     "output_type": "display_data"
    }
   ],
   "source": [
    "showImage(second10)"
   ]
  },
  {
   "cell_type": "code",
   "execution_count": 24,
   "metadata": {},
   "outputs": [
    {
     "data": {
      "image/png": "[encoded data removed]",
      "text/plain": [
       "<matplotlib.figure.Figure at 0x225de015a90>"
      ]
     },
     "metadata": {},
     "output_type": "display_data"
    }
   ],
   "source": [
    "showImage(bin_images[0])"
   ]
  },
  {
   "cell_type": "code",
   "execution_count": 25,
   "metadata": {},
   "outputs": [
    {
     "data": {
      "image/png": "[encoded data removed]",
      "text/plain": [
       "<matplotlib.figure.Figure at 0x225de072438>"
      ]
     },
     "metadata": {},
     "output_type": "display_data"
    }
   ],
   "source": [
    "showImage(preprocessing.binarize((newQList[0] * bin_images[0]), threshold=0.5, copy=False))"
   ]
  },
  {
   "cell_type": "code",
   "execution_count": 26,
   "metadata": {},
   "outputs": [
    {
     "data": {
      "text/html": [
       "<div>\n",
       "<style scoped>\n",
       "    .dataframe tbody tr th:only-of-type {\n",
       "        vertical-align: middle;\n",
       "    }\n",
       "\n",
       "    .dataframe tbody tr th {\n",
       "        vertical-align: top;\n",
       "    }\n",
       "\n",
       "    .dataframe thead th {\n",
       "        text-align: right;\n",
       "    }\n",
       "</style>\n",
       "<table border=\"1\" class=\"dataframe\">\n",
       "  <thead>\n",
       "    <tr style=\"text-align: right;\">\n",
       "      <th></th>\n",
       "      <th>0</th>\n",
       "      <th>1</th>\n",
       "      <th>2</th>\n",
       "      <th>3</th>\n",
       "      <th>4</th>\n",
       "      <th>5</th>\n",
       "      <th>6</th>\n",
       "      <th>7</th>\n",
       "      <th>8</th>\n",
       "      <th>9</th>\n",
       "      <th>10</th>\n",
       "    </tr>\n",
       "  </thead>\n",
       "  <tbody>\n",
       "    <tr>\n",
       "      <th>0</th>\n",
       "      <td>-425.347929</td>\n",
       "      <td>-3405.666353</td>\n",
       "      <td>-3557.287073</td>\n",
       "      <td>-3560.931573</td>\n",
       "      <td>-3560.987327</td>\n",
       "      <td>-3560.993045</td>\n",
       "      <td>-3560.994302</td>\n",
       "      <td>-3560.994630</td>\n",
       "      <td>-3560.994717</td>\n",
       "      <td>-3560.994741</td>\n",
       "      <td>-3560.994747</td>\n",
       "    </tr>\n",
       "    <tr>\n",
       "      <th>1</th>\n",
       "      <td>-431.074730</td>\n",
       "      <td>-3348.878768</td>\n",
       "      <td>-3520.225046</td>\n",
       "      <td>-3524.501031</td>\n",
       "      <td>-3524.826770</td>\n",
       "      <td>-3524.851626</td>\n",
       "      <td>-3524.853342</td>\n",
       "      <td>-3524.853468</td>\n",
       "      <td>-3524.853479</td>\n",
       "      <td>-3524.853480</td>\n",
       "      <td>-3524.853480</td>\n",
       "    </tr>\n",
       "    <tr>\n",
       "      <th>2</th>\n",
       "      <td>-443.899917</td>\n",
       "      <td>-3431.427147</td>\n",
       "      <td>-3595.446488</td>\n",
       "      <td>-3595.655566</td>\n",
       "      <td>-3595.662593</td>\n",
       "      <td>-3595.663231</td>\n",
       "      <td>-3595.663302</td>\n",
       "      <td>-3595.663310</td>\n",
       "      <td>-3595.663311</td>\n",
       "      <td>-3595.663311</td>\n",
       "      <td>-3595.663311</td>\n",
       "    </tr>\n",
       "    <tr>\n",
       "      <th>3</th>\n",
       "      <td>-434.999207</td>\n",
       "      <td>-3537.052500</td>\n",
       "      <td>-3723.411264</td>\n",
       "      <td>-3723.798649</td>\n",
       "      <td>-3723.798982</td>\n",
       "      <td>-3723.798982</td>\n",
       "      <td>-3723.798982</td>\n",
       "      <td>-3723.798982</td>\n",
       "      <td>-3723.798982</td>\n",
       "      <td>-3723.798982</td>\n",
       "      <td>-3723.798982</td>\n",
       "    </tr>\n",
       "    <tr>\n",
       "      <th>4</th>\n",
       "      <td>-433.090420</td>\n",
       "      <td>-3424.198558</td>\n",
       "      <td>-3605.580148</td>\n",
       "      <td>-3606.360341</td>\n",
       "      <td>-3606.356581</td>\n",
       "      <td>-3606.356379</td>\n",
       "      <td>-3606.356365</td>\n",
       "      <td>-3606.356364</td>\n",
       "      <td>-3606.356364</td>\n",
       "      <td>-3606.356364</td>\n",
       "      <td>-3606.356364</td>\n",
       "    </tr>\n",
       "    <tr>\n",
       "      <th>5</th>\n",
       "      <td>-405.359546</td>\n",
       "      <td>-3355.733370</td>\n",
       "      <td>-3518.682241</td>\n",
       "      <td>-3525.843527</td>\n",
       "      <td>-3527.026673</td>\n",
       "      <td>-3527.205790</td>\n",
       "      <td>-3527.229001</td>\n",
       "      <td>-3527.231944</td>\n",
       "      <td>-3527.232317</td>\n",
       "      <td>-3527.232364</td>\n",
       "      <td>-3527.232370</td>\n",
       "    </tr>\n",
       "    <tr>\n",
       "      <th>6</th>\n",
       "      <td>-402.193095</td>\n",
       "      <td>-3559.741329</td>\n",
       "      <td>-3760.980992</td>\n",
       "      <td>-3761.406247</td>\n",
       "      <td>-3761.398190</td>\n",
       "      <td>-3761.393945</td>\n",
       "      <td>-3761.392719</td>\n",
       "      <td>-3761.392379</td>\n",
       "      <td>-3761.392286</td>\n",
       "      <td>-3761.392260</td>\n",
       "      <td>-3761.392253</td>\n",
       "    </tr>\n",
       "    <tr>\n",
       "      <th>7</th>\n",
       "      <td>-438.726128</td>\n",
       "      <td>-3419.931757</td>\n",
       "      <td>-3571.757238</td>\n",
       "      <td>-3573.782350</td>\n",
       "      <td>-3573.885387</td>\n",
       "      <td>-3573.890541</td>\n",
       "      <td>-3573.890814</td>\n",
       "      <td>-3573.890831</td>\n",
       "      <td>-3573.890832</td>\n",
       "      <td>-3573.890833</td>\n",
       "      <td>-3573.890833</td>\n",
       "    </tr>\n",
       "    <tr>\n",
       "      <th>8</th>\n",
       "      <td>-448.347160</td>\n",
       "      <td>-3578.368195</td>\n",
       "      <td>-3763.313085</td>\n",
       "      <td>-3766.139670</td>\n",
       "      <td>-3766.199662</td>\n",
       "      <td>-3766.201435</td>\n",
       "      <td>-3766.201491</td>\n",
       "      <td>-3766.201493</td>\n",
       "      <td>-3766.201493</td>\n",
       "      <td>-3766.201493</td>\n",
       "      <td>-3766.201493</td>\n",
       "    </tr>\n",
       "    <tr>\n",
       "      <th>9</th>\n",
       "      <td>-416.275133</td>\n",
       "      <td>-3442.487869</td>\n",
       "      <td>-3604.897826</td>\n",
       "      <td>-3606.871376</td>\n",
       "      <td>-3606.970239</td>\n",
       "      <td>-3606.982313</td>\n",
       "      <td>-3606.984870</td>\n",
       "      <td>-3606.985510</td>\n",
       "      <td>-3606.985676</td>\n",
       "      <td>-3606.985720</td>\n",
       "      <td>-3606.985732</td>\n",
       "    </tr>\n",
       "    <tr>\n",
       "      <th>10</th>\n",
       "      <td>-405.789649</td>\n",
       "      <td>-3461.043561</td>\n",
       "      <td>-3644.401751</td>\n",
       "      <td>-3644.909678</td>\n",
       "      <td>-3644.971593</td>\n",
       "      <td>-3644.990163</td>\n",
       "      <td>-3644.995411</td>\n",
       "      <td>-3644.996871</td>\n",
       "      <td>-3644.997277</td>\n",
       "      <td>-3644.997390</td>\n",
       "      <td>-3644.997421</td>\n",
       "    </tr>\n",
       "    <tr>\n",
       "      <th>11</th>\n",
       "      <td>-374.376476</td>\n",
       "      <td>-3493.686435</td>\n",
       "      <td>-3671.049550</td>\n",
       "      <td>-3673.238632</td>\n",
       "      <td>-3673.310225</td>\n",
       "      <td>-3673.317386</td>\n",
       "      <td>-3673.318342</td>\n",
       "      <td>-3673.318484</td>\n",
       "      <td>-3673.318506</td>\n",
       "      <td>-3673.318510</td>\n",
       "      <td>-3673.318511</td>\n",
       "    </tr>\n",
       "    <tr>\n",
       "      <th>12</th>\n",
       "      <td>-397.257628</td>\n",
       "      <td>-3338.785258</td>\n",
       "      <td>-3526.891563</td>\n",
       "      <td>-3534.439508</td>\n",
       "      <td>-3534.658987</td>\n",
       "      <td>-3534.662923</td>\n",
       "      <td>-3534.661736</td>\n",
       "      <td>-3534.661308</td>\n",
       "      <td>-3534.661183</td>\n",
       "      <td>-3534.661148</td>\n",
       "      <td>-3534.661139</td>\n",
       "    </tr>\n",
       "    <tr>\n",
       "      <th>13</th>\n",
       "      <td>-438.713515</td>\n",
       "      <td>-3352.140042</td>\n",
       "      <td>-3520.977844</td>\n",
       "      <td>-3526.788258</td>\n",
       "      <td>-3527.574176</td>\n",
       "      <td>-3527.667304</td>\n",
       "      <td>-3527.677801</td>\n",
       "      <td>-3527.678987</td>\n",
       "      <td>-3527.679122</td>\n",
       "      <td>-3527.679138</td>\n",
       "      <td>-3527.679140</td>\n",
       "    </tr>\n",
       "    <tr>\n",
       "      <th>14</th>\n",
       "      <td>-435.997747</td>\n",
       "      <td>-3568.337445</td>\n",
       "      <td>-3763.446475</td>\n",
       "      <td>-3764.865192</td>\n",
       "      <td>-3764.884349</td>\n",
       "      <td>-3764.884915</td>\n",
       "      <td>-3764.884932</td>\n",
       "      <td>-3764.884932</td>\n",
       "      <td>-3764.884932</td>\n",
       "      <td>-3764.884932</td>\n",
       "      <td>-3764.884932</td>\n",
       "    </tr>\n",
       "    <tr>\n",
       "      <th>15</th>\n",
       "      <td>-448.559066</td>\n",
       "      <td>-3404.667355</td>\n",
       "      <td>-3606.138171</td>\n",
       "      <td>-3606.958810</td>\n",
       "      <td>-3606.991317</td>\n",
       "      <td>-3606.997275</td>\n",
       "      <td>-3606.998674</td>\n",
       "      <td>-3606.999028</td>\n",
       "      <td>-3606.999121</td>\n",
       "      <td>-3606.999145</td>\n",
       "      <td>-3606.999152</td>\n",
       "    </tr>\n",
       "    <tr>\n",
       "      <th>16</th>\n",
       "      <td>-424.465000</td>\n",
       "      <td>-3344.596698</td>\n",
       "      <td>-3538.503339</td>\n",
       "      <td>-3539.958528</td>\n",
       "      <td>-3540.012715</td>\n",
       "      <td>-3540.015126</td>\n",
       "      <td>-3540.015960</td>\n",
       "      <td>-3540.016291</td>\n",
       "      <td>-3540.016401</td>\n",
       "      <td>-3540.016434</td>\n",
       "      <td>-3540.016444</td>\n",
       "    </tr>\n",
       "    <tr>\n",
       "      <th>17</th>\n",
       "      <td>-404.058429</td>\n",
       "      <td>-3391.221060</td>\n",
       "      <td>-3591.952793</td>\n",
       "      <td>-3594.308973</td>\n",
       "      <td>-3594.363455</td>\n",
       "      <td>-3594.365076</td>\n",
       "      <td>-3594.365127</td>\n",
       "      <td>-3594.365129</td>\n",
       "      <td>-3594.365129</td>\n",
       "      <td>-3594.365129</td>\n",
       "      <td>-3594.365129</td>\n",
       "    </tr>\n",
       "    <tr>\n",
       "      <th>18</th>\n",
       "      <td>-442.056623</td>\n",
       "      <td>-3407.988487</td>\n",
       "      <td>-3594.017088</td>\n",
       "      <td>-3604.653335</td>\n",
       "      <td>-3607.039056</td>\n",
       "      <td>-3607.372248</td>\n",
       "      <td>-3607.411085</td>\n",
       "      <td>-3607.415585</td>\n",
       "      <td>-3607.416118</td>\n",
       "      <td>-3607.416182</td>\n",
       "      <td>-3607.416191</td>\n",
       "    </tr>\n",
       "    <tr>\n",
       "      <th>19</th>\n",
       "      <td>-403.905331</td>\n",
       "      <td>-3457.207817</td>\n",
       "      <td>-3648.530433</td>\n",
       "      <td>-3651.130838</td>\n",
       "      <td>-3651.351566</td>\n",
       "      <td>-3651.380196</td>\n",
       "      <td>-3651.384707</td>\n",
       "      <td>-3651.385641</td>\n",
       "      <td>-3651.385883</td>\n",
       "      <td>-3651.385953</td>\n",
       "      <td>-3651.385975</td>\n",
       "    </tr>\n",
       "  </tbody>\n",
       "</table>\n",
       "</div>"
      ],
      "text/plain": [
       "            0            1            2            3            4   \\\n",
       "0  -425.347929 -3405.666353 -3557.287073 -3560.931573 -3560.987327   \n",
       "1  -431.074730 -3348.878768 -3520.225046 -3524.501031 -3524.826770   \n",
       "2  -443.899917 -3431.427147 -3595.446488 -3595.655566 -3595.662593   \n",
       "3  -434.999207 -3537.052500 -3723.411264 -3723.798649 -3723.798982   \n",
       "4  -433.090420 -3424.198558 -3605.580148 -3606.360341 -3606.356581   \n",
       "5  -405.359546 -3355.733370 -3518.682241 -3525.843527 -3527.026673   \n",
       "6  -402.193095 -3559.741329 -3760.980992 -3761.406247 -3761.398190   \n",
       "7  -438.726128 -3419.931757 -3571.757238 -3573.782350 -3573.885387   \n",
       "8  -448.347160 -3578.368195 -3763.313085 -3766.139670 -3766.199662   \n",
       "9  -416.275133 -3442.487869 -3604.897826 -3606.871376 -3606.970239   \n",
       "10 -405.789649 -3461.043561 -3644.401751 -3644.909678 -3644.971593   \n",
       "11 -374.376476 -3493.686435 -3671.049550 -3673.238632 -3673.310225   \n",
       "12 -397.257628 -3338.785258 -3526.891563 -3534.439508 -3534.658987   \n",
       "13 -438.713515 -3352.140042 -3520.977844 -3526.788258 -3527.574176   \n",
       "14 -435.997747 -3568.337445 -3763.446475 -3764.865192 -3764.884349   \n",
       "15 -448.559066 -3404.667355 -3606.138171 -3606.958810 -3606.991317   \n",
       "16 -424.465000 -3344.596698 -3538.503339 -3539.958528 -3540.012715   \n",
       "17 -404.058429 -3391.221060 -3591.952793 -3594.308973 -3594.363455   \n",
       "18 -442.056623 -3407.988487 -3594.017088 -3604.653335 -3607.039056   \n",
       "19 -403.905331 -3457.207817 -3648.530433 -3651.130838 -3651.351566   \n",
       "\n",
       "             5            6            7            8            9   \\\n",
       "0  -3560.993045 -3560.994302 -3560.994630 -3560.994717 -3560.994741   \n",
       "1  -3524.851626 -3524.853342 -3524.853468 -3524.853479 -3524.853480   \n",
       "2  -3595.663231 -3595.663302 -3595.663310 -3595.663311 -3595.663311   \n",
       "3  -3723.798982 -3723.798982 -3723.798982 -3723.798982 -3723.798982   \n",
       "4  -3606.356379 -3606.356365 -3606.356364 -3606.356364 -3606.356364   \n",
       "5  -3527.205790 -3527.229001 -3527.231944 -3527.232317 -3527.232364   \n",
       "6  -3761.393945 -3761.392719 -3761.392379 -3761.392286 -3761.392260   \n",
       "7  -3573.890541 -3573.890814 -3573.890831 -3573.890832 -3573.890833   \n",
       "8  -3766.201435 -3766.201491 -3766.201493 -3766.201493 -3766.201493   \n",
       "9  -3606.982313 -3606.984870 -3606.985510 -3606.985676 -3606.985720   \n",
       "10 -3644.990163 -3644.995411 -3644.996871 -3644.997277 -3644.997390   \n",
       "11 -3673.317386 -3673.318342 -3673.318484 -3673.318506 -3673.318510   \n",
       "12 -3534.662923 -3534.661736 -3534.661308 -3534.661183 -3534.661148   \n",
       "13 -3527.667304 -3527.677801 -3527.678987 -3527.679122 -3527.679138   \n",
       "14 -3764.884915 -3764.884932 -3764.884932 -3764.884932 -3764.884932   \n",
       "15 -3606.997275 -3606.998674 -3606.999028 -3606.999121 -3606.999145   \n",
       "16 -3540.015126 -3540.015960 -3540.016291 -3540.016401 -3540.016434   \n",
       "17 -3594.365076 -3594.365127 -3594.365129 -3594.365129 -3594.365129   \n",
       "18 -3607.372248 -3607.411085 -3607.415585 -3607.416118 -3607.416182   \n",
       "19 -3651.380196 -3651.384707 -3651.385641 -3651.385883 -3651.385953   \n",
       "\n",
       "             10  \n",
       "0  -3560.994747  \n",
       "1  -3524.853480  \n",
       "2  -3595.663311  \n",
       "3  -3723.798982  \n",
       "4  -3606.356364  \n",
       "5  -3527.232370  \n",
       "6  -3761.392253  \n",
       "7  -3573.890833  \n",
       "8  -3766.201493  \n",
       "9  -3606.985732  \n",
       "10 -3644.997421  \n",
       "11 -3673.318511  \n",
       "12 -3534.661139  \n",
       "13 -3527.679140  \n",
       "14 -3764.884932  \n",
       "15 -3606.999152  \n",
       "16 -3540.016444  \n",
       "17 -3594.365129  \n",
       "18 -3607.416191  \n",
       "19 -3651.385975  "
      ]
     },
     "execution_count": 26,
     "metadata": {},
     "output_type": "execute_result"
    }
   ],
   "source": [
    "pd.DataFrame(eValues)"
   ]
  },
  {
   "cell_type": "code",
   "execution_count": null,
   "metadata": {},
   "outputs": [],
   "source": []
  },
  {
   "cell_type": "code",
   "execution_count": null,
   "metadata": {},
   "outputs": [],
   "source": []
  }
 ],
 "metadata": {
  "kernelspec": {
   "display_name": "Python 3",
   "language": "python",
   "name": "python3"
  },
  "language_info": {
   "codemirror_mode": {
    "name": "ipython",
    "version": 3
   },
   "file_extension": ".py",
   "mimetype": "text/x-python",
   "name": "python",
   "nbconvert_exporter": "python",
   "pygments_lexer": "ipython3",
   "version": "3.6.4"
  }
 },
 "nbformat": 4,
 "nbformat_minor": 2
}
